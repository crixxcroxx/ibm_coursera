{
 "cells": [
  {
   "cell_type": "code",
   "execution_count": 1,
   "metadata": {},
   "outputs": [],
   "source": [
    "import torch\n",
    "import torchvision\n",
    "import torchvision.transforms as transforms"
   ]
  },
  {
   "cell_type": "code",
   "execution_count": 2,
   "metadata": {},
   "outputs": [
    {
     "data": {
      "text/plain": [
       "'cpu'"
      ]
     },
     "execution_count": 2,
     "metadata": {},
     "output_type": "execute_result"
    }
   ],
   "source": [
    "device = 'cuda:0' if torch.cuda.is_available() else 'cpu'\n",
    "device"
   ]
  },
  {
   "cell_type": "code",
   "execution_count": 3,
   "metadata": {},
   "outputs": [
    {
     "name": "stderr",
     "output_type": "stream",
     "text": [
      "100%|██████████| 26.4M/26.4M [00:08<00:00, 2.98MB/s]\n",
      "100%|██████████| 29.5k/29.5k [00:00<00:00, 106kB/s]\n",
      "100%|██████████| 4.42M/4.42M [00:05<00:00, 776kB/s] \n",
      "100%|██████████| 5.15k/5.15k [00:00<00:00, 49.6MB/s]\n"
     ]
    }
   ],
   "source": [
    "transform = transforms.ToTensor()\n",
    "batch_size = 8\n",
    "\n",
    "trainset = torchvision.datasets.FashionMNIST(root='./data', train=True,\n",
    "                                        download=True, transform=transform)\n",
    "\n",
    "testset = torchvision.datasets.FashionMNIST(root='./data', train=False,\n",
    "                                       download=True, transform=transform)\n",
    "\n",
    "classes = ('T-shirt/top', 'Trouser/pants','Pullover shirt','Dress','Coat','Sandal',\n",
    "           'Shirt','Sneaker','Bag','Ankle boot')"
   ]
  },
  {
   "cell_type": "code",
   "execution_count": 4,
   "metadata": {},
   "outputs": [
    {
     "data": {
      "text/plain": [
       "['T-shirt/top',\n",
       " 'Trouser',\n",
       " 'Pullover',\n",
       " 'Dress',\n",
       " 'Coat',\n",
       " 'Sandal',\n",
       " 'Shirt',\n",
       " 'Sneaker',\n",
       " 'Bag',\n",
       " 'Ankle boot']"
      ]
     },
     "execution_count": 4,
     "metadata": {},
     "output_type": "execute_result"
    }
   ],
   "source": [
    "trainset.classes"
   ]
  },
  {
   "cell_type": "code",
   "execution_count": 5,
   "metadata": {},
   "outputs": [
    {
     "data": {
      "text/plain": [
       "(torch.Size([1, 28, 28]), 9)"
      ]
     },
     "execution_count": 5,
     "metadata": {},
     "output_type": "execute_result"
    }
   ],
   "source": [
    "train_iter = iter(trainset)\n",
    "image, label = next(train_iter)\n",
    "\n",
    "image.shape, label"
   ]
  },
  {
   "cell_type": "code",
   "execution_count": null,
   "metadata": {},
   "outputs": [
    {
     "data": {
      "text/plain": [
       "(0.0, 1.0)"
      ]
     },
     "execution_count": 6,
     "metadata": {},
     "output_type": "execute_result"
    }
   ],
   "source": [
    "torch.min(image).item(), torch.max(image).item() # values(range) on image matrix"
   ]
  },
  {
   "cell_type": "code",
   "execution_count": 8,
   "metadata": {},
   "outputs": [
    {
     "data": {
      "text/plain": [
       "<matplotlib.image.AxesImage at 0x7fab7ef66090>"
      ]
     },
     "execution_count": 8,
     "metadata": {},
     "output_type": "execute_result"
    },
    {
     "data": {
      "image/png": "[encoded data removed]",
      "text/plain": [
       "<Figure size 640x480 with 1 Axes>"
      ]
     },
     "metadata": {},
     "output_type": "display_data"
    }
   ],
   "source": [
    "import matplotlib.pyplot as plt\n",
    "import numpy as np\n",
    "\n",
    "np_img = image.numpy()\n",
    "plt.title(classes[label])\n",
    "plt.imshow(np_img.reshape((28, 28, 1)))"
   ]
  },
  {
   "cell_type": "code",
   "execution_count": 9,
   "metadata": {},
   "outputs": [
    {
     "data": {
      "text/plain": [
       "(60000, 10000)"
      ]
     },
     "execution_count": 9,
     "metadata": {},
     "output_type": "execute_result"
    }
   ],
   "source": [
    "len(trainset), len(testset)"
   ]
  },
  {
   "cell_type": "code",
   "execution_count": 10,
   "metadata": {},
   "outputs": [
    {
     "data": {
      "text/plain": [
       "(50000, 10000, 10000)"
      ]
     },
     "execution_count": 10,
     "metadata": {},
     "output_type": "execute_result"
    }
   ],
   "source": [
    "trainset, valset = torch.utils.data.random_split(trainset, [50000, 10000])\n",
    "len(trainset), len(valset), len(testset)"
   ]
  },
  {
   "cell_type": "code",
   "execution_count": 11,
   "metadata": {},
   "outputs": [],
   "source": [
    "trainloader = torch.utils.data.DataLoader(trainset, batch_size=batch_size,\n",
    "                                          shuffle=True, num_workers=2)\n",
    "\n",
    "valloader = torch.utils.data.DataLoader(valset, batch_size=batch_size,\n",
    "                                          shuffle=False, num_workers=2)\n",
    "\n",
    "testloader = torch.utils.data.DataLoader(testset, batch_size=batch_size,\n",
    "                                         shuffle=False, num_workers=2)"
   ]
  },
  {
   "cell_type": "code",
   "execution_count": 12,
   "metadata": {},
   "outputs": [],
   "source": [
    "import torch.nn as nn\n",
    "import torch.nn.functional as F\n",
    "\n",
    "class NeuralNet(nn.Module):\n",
    "    def __init__(self):\n",
    "        super().__init__()\n",
    "\n",
    "        self.conv1 = nn.Conv2d(in_channels=1, out_channels=256, kernel_size=3)\n",
    "        self.pool1 = nn.MaxPool2d(2, 2)\n",
    "\n",
    "        self.conv2 = nn.Conv2d(in_channels=256, out_channels=512, kernel_size=3)\n",
    "        self.pool2 = nn.MaxPool2d(2, 2)\n",
    "\n",
    "        self.conv3 = nn.Conv2d(in_channels=512, out_channels=1024, kernel_size=2)\n",
    "        self.pool3 = nn.MaxPool2d(2, 2)\n",
    "\n",
    "        self.flatten = nn.Flatten()\n",
    "\n",
    "        self.fc1 = nn.Linear(in_features=4096, out_features=1024)\n",
    "        self.drop1 = nn.Dropout(p=0.3)\n",
    "\n",
    "        self.fc2 = nn.Linear(in_features=1024, out_features=1024)\n",
    "        self.drop2 = nn.Dropout(p=0.3)\n",
    "        \n",
    "        self.out = nn.Linear(in_features=1024, out_features=10)\n",
    "\n",
    "    \n",
    "    def forward(self, x):\n",
    "      x = F.relu(self.conv1(x))\n",
    "      x = self.pool1(x)\n",
    "\n",
    "      x = F.relu(self.conv2(x))\n",
    "      x = self.pool2(x)\n",
    "\n",
    "      x = F.relu(self.conv3(x))\n",
    "      x = self.pool3(x)\n",
    "\n",
    "      x = self.flatten(x)\n",
    "\n",
    "      x = F.relu(self.fc1(x))\n",
    "      x = self.drop1(x)\n",
    "\n",
    "      x = F.relu(self.fc2(x))\n",
    "      x = self.drop2(x)\n",
    "\n",
    "      x = self.out(x)\n",
    "\n",
    "      return x"
   ]
  },
  {
   "cell_type": "code",
   "execution_count": 13,
   "metadata": {},
   "outputs": [
    {
     "data": {
      "text/plain": [
       "NeuralNet(\n",
       "  (conv1): Conv2d(1, 256, kernel_size=(3, 3), stride=(1, 1))\n",
       "  (pool1): MaxPool2d(kernel_size=2, stride=2, padding=0, dilation=1, ceil_mode=False)\n",
       "  (conv2): Conv2d(256, 512, kernel_size=(3, 3), stride=(1, 1))\n",
       "  (pool2): MaxPool2d(kernel_size=2, stride=2, padding=0, dilation=1, ceil_mode=False)\n",
       "  (conv3): Conv2d(512, 1024, kernel_size=(2, 2), stride=(1, 1))\n",
       "  (pool3): MaxPool2d(kernel_size=2, stride=2, padding=0, dilation=1, ceil_mode=False)\n",
       "  (flatten): Flatten(start_dim=1, end_dim=-1)\n",
       "  (fc1): Linear(in_features=4096, out_features=1024, bias=True)\n",
       "  (drop1): Dropout(p=0.3, inplace=False)\n",
       "  (fc2): Linear(in_features=1024, out_features=1024, bias=True)\n",
       "  (drop2): Dropout(p=0.3, inplace=False)\n",
       "  (out): Linear(in_features=1024, out_features=10, bias=True)\n",
       ")"
      ]
     },
     "execution_count": 13,
     "metadata": {},
     "output_type": "execute_result"
    }
   ],
   "source": [
    "net = NeuralNet()\n",
    "net.to(device)"
   ]
  },
  {
   "cell_type": "code",
   "execution_count": 14,
   "metadata": {},
   "outputs": [
    {
     "name": "stdout",
     "output_type": "stream",
     "text": [
      "input shape: torch.Size([8, 1, 28, 28])\n",
      "after network shape: torch.Size([8, 10])\n"
     ]
    }
   ],
   "source": [
    "for i, data in enumerate(trainloader):\n",
    "    inputs, labels = data[0].to(device), data[1].to(device)\n",
    "    print(f'input shape: {inputs.shape}')\n",
    "    print(f'after network shape: {net(inputs).shape}')\n",
    "    break"
   ]
  },
  {
   "cell_type": "code",
   "execution_count": 15,
   "metadata": {},
   "outputs": [
    {
     "name": "stdout",
     "output_type": "stream",
     "text": [
      "Number of parameters in the model: 8,536,074\n"
     ]
    }
   ],
   "source": [
    "num_params = 0\n",
    "for x in net.parameters():\n",
    "  num_params += len(torch.flatten(x))\n",
    "\n",
    "print(f'Number of parameters in the model: {num_params:,}')"
   ]
  },
  {
   "cell_type": "code",
   "execution_count": 16,
   "metadata": {},
   "outputs": [],
   "source": [
    "import torch.optim as optim\n",
    "\n",
    "criterion = nn.CrossEntropyLoss()\n",
    "optimizer = optim.Adam(net.parameters(), lr=0.0001)"
   ]
  },
  {
   "cell_type": "code",
   "execution_count": 17,
   "metadata": {},
   "outputs": [],
   "source": [
    "def train_one_epoch():\n",
    "  net.train(True)\n",
    "\n",
    "  running_loss = 0.0\n",
    "  running_accuracy = 0.0\n",
    "\n",
    "  for batch_index, data in enumerate(trainloader):\n",
    "    inputs, labels = data[0].to(device), data[1].to(device)\n",
    "\n",
    "    optimizer.zero_grad()\n",
    "\n",
    "    outputs = net(inputs) # shape: [batch_size, 10]\n",
    "    correct = torch.sum(labels == torch.argmax(outputs, dim=1)).item()\n",
    "    running_accuracy += correct / batch_size\n",
    "\n",
    "    loss = criterion(outputs, labels)\n",
    "    running_loss += loss.item()\n",
    "    loss.backward()\n",
    "    optimizer.step()\n",
    "\n",
    "    if batch_index % 500 == 499:  # print every 500 batches\n",
    "      avg_loss_across_batches = running_loss / 500\n",
    "      avg_acc_across_batches = (running_accuracy / 500) * 100\n",
    "      print('Batch {0}, Loss: {1:.3f}, Accuracy: {2:.1f}%'.format(batch_index+1,\n",
    "                                                          avg_loss_across_batches,\n",
    "                                                          avg_acc_across_batches))\n",
    "      running_loss = 0.0\n",
    "      running_accuracy = 0.0\n",
    "\n",
    "    \n",
    "  print()"
   ]
  },
  {
   "cell_type": "code",
   "execution_count": 18,
   "metadata": {},
   "outputs": [],
   "source": [
    "def validate_one_epoch():\n",
    "    net.train(False)\n",
    "    running_loss = 0.0\n",
    "    running_accuracy = 0.0\n",
    "    \n",
    "    for i, data in enumerate(valloader):\n",
    "        inputs, labels = data[0].to(device), data[1].to(device)\n",
    "        \n",
    "        with torch.no_grad():\n",
    "            outputs = net(inputs) # shape: [batch_size, 10]\n",
    "            correct = torch.sum(labels == torch.argmax(outputs, dim=1)).item()\n",
    "            running_accuracy += correct / batch_size\n",
    "            loss = criterion(outputs, labels) # One number, the average batch loss\n",
    "            running_loss += loss.item()\n",
    "        \n",
    "    avg_loss_across_batches = running_loss / len(valloader)\n",
    "    avg_acc_across_batches = (running_accuracy / len(valloader)) * 100\n",
    "    \n",
    "    print('Val Loss: {0:.3f}, Val Accuracy: {1:.1f}%'.format(avg_loss_across_batches,\n",
    "                                                            avg_acc_across_batches))\n",
    "    print('***************************************************')\n",
    "    print()"
   ]
  },
  {
   "cell_type": "code",
   "execution_count": 19,
   "metadata": {},
   "outputs": [
    {
     "name": "stdout",
     "output_type": "stream",
     "text": [
      "Epoch: 1\n",
      "\n",
      "Batch 500, Loss: 1.181, Accuracy: 55.1%\n",
      "Batch 1000, Loss: 0.737, Accuracy: 72.0%\n",
      "Batch 1500, Loss: 0.641, Accuracy: 76.0%\n",
      "Batch 2000, Loss: 0.587, Accuracy: 77.7%\n",
      "Batch 2500, Loss: 0.578, Accuracy: 79.1%\n",
      "Batch 3000, Loss: 0.543, Accuracy: 79.4%\n",
      "Batch 3500, Loss: 0.503, Accuracy: 81.4%\n",
      "Batch 4000, Loss: 0.474, Accuracy: 82.8%\n",
      "Batch 4500, Loss: 0.456, Accuracy: 83.9%\n",
      "Batch 5000, Loss: 0.448, Accuracy: 82.8%\n",
      "Batch 5500, Loss: 0.442, Accuracy: 83.5%\n",
      "Batch 6000, Loss: 0.431, Accuracy: 84.2%\n",
      "\n",
      "Val Loss: 0.382, Val Accuracy: 85.8%\n",
      "***************************************************\n",
      "\n",
      "Epoch: 2\n",
      "\n",
      "Batch 500, Loss: 0.375, Accuracy: 86.3%\n",
      "Batch 1000, Loss: 0.366, Accuracy: 86.7%\n",
      "Batch 1500, Loss: 0.363, Accuracy: 86.6%\n",
      "Batch 2000, Loss: 0.359, Accuracy: 86.7%\n",
      "Batch 2500, Loss: 0.370, Accuracy: 86.1%\n",
      "Batch 3000, Loss: 0.388, Accuracy: 86.1%\n",
      "Batch 3500, Loss: 0.346, Accuracy: 87.2%\n",
      "Batch 4000, Loss: 0.359, Accuracy: 86.8%\n",
      "Batch 4500, Loss: 0.335, Accuracy: 87.8%\n",
      "Batch 5000, Loss: 0.340, Accuracy: 87.3%\n",
      "Batch 5500, Loss: 0.312, Accuracy: 88.6%\n",
      "Batch 6000, Loss: 0.317, Accuracy: 88.5%\n",
      "\n",
      "Val Loss: 0.318, Val Accuracy: 88.1%\n",
      "***************************************************\n",
      "\n",
      "Epoch: 3\n",
      "\n",
      "Batch 500, Loss: 0.288, Accuracy: 89.8%\n",
      "Batch 1000, Loss: 0.306, Accuracy: 88.9%\n",
      "Batch 1500, Loss: 0.299, Accuracy: 89.2%\n",
      "Batch 2000, Loss: 0.289, Accuracy: 89.6%\n",
      "Batch 2500, Loss: 0.285, Accuracy: 89.5%\n",
      "Batch 3000, Loss: 0.321, Accuracy: 87.8%\n",
      "Batch 3500, Loss: 0.300, Accuracy: 89.1%\n",
      "Batch 4000, Loss: 0.296, Accuracy: 89.3%\n",
      "Batch 4500, Loss: 0.292, Accuracy: 89.1%\n",
      "Batch 5000, Loss: 0.299, Accuracy: 89.1%\n",
      "Batch 5500, Loss: 0.275, Accuracy: 90.1%\n",
      "Batch 6000, Loss: 0.287, Accuracy: 89.3%\n",
      "\n",
      "Val Loss: 0.277, Val Accuracy: 89.9%\n",
      "***************************************************\n",
      "\n",
      "Epoch: 4\n",
      "\n",
      "Batch 500, Loss: 0.258, Accuracy: 90.4%\n",
      "Batch 1000, Loss: 0.266, Accuracy: 90.3%\n",
      "Batch 1500, Loss: 0.251, Accuracy: 91.0%\n",
      "Batch 2000, Loss: 0.255, Accuracy: 90.5%\n",
      "Batch 2500, Loss: 0.285, Accuracy: 89.2%\n",
      "Batch 3000, Loss: 0.254, Accuracy: 91.1%\n",
      "Batch 3500, Loss: 0.267, Accuracy: 90.5%\n",
      "Batch 4000, Loss: 0.253, Accuracy: 90.2%\n",
      "Batch 4500, Loss: 0.255, Accuracy: 90.5%\n",
      "Batch 5000, Loss: 0.259, Accuracy: 90.0%\n",
      "Batch 5500, Loss: 0.242, Accuracy: 91.2%\n",
      "Batch 6000, Loss: 0.252, Accuracy: 91.2%\n",
      "\n",
      "Val Loss: 0.269, Val Accuracy: 90.0%\n",
      "***************************************************\n",
      "\n",
      "Epoch: 5\n",
      "\n",
      "Batch 500, Loss: 0.209, Accuracy: 92.2%\n",
      "Batch 1000, Loss: 0.234, Accuracy: 91.6%\n",
      "Batch 1500, Loss: 0.221, Accuracy: 91.9%\n",
      "Batch 2000, Loss: 0.237, Accuracy: 91.1%\n",
      "Batch 2500, Loss: 0.239, Accuracy: 90.7%\n",
      "Batch 3000, Loss: 0.224, Accuracy: 91.5%\n",
      "Batch 3500, Loss: 0.222, Accuracy: 92.0%\n",
      "Batch 4000, Loss: 0.222, Accuracy: 92.3%\n",
      "Batch 4500, Loss: 0.219, Accuracy: 91.7%\n",
      "Batch 5000, Loss: 0.236, Accuracy: 91.5%\n",
      "Batch 5500, Loss: 0.231, Accuracy: 91.0%\n",
      "Batch 6000, Loss: 0.236, Accuracy: 91.0%\n",
      "\n",
      "Val Loss: 0.239, Val Accuracy: 91.5%\n",
      "***************************************************\n",
      "\n",
      "Finished Training\n"
     ]
    }
   ],
   "source": [
    "num_epochs = 5\n",
    "\n",
    "for epoch_index in range(num_epochs):\n",
    "    print(f'Epoch: {epoch_index + 1}\\n')\n",
    "    \n",
    "    train_one_epoch()\n",
    "    validate_one_epoch()\n",
    "        \n",
    "\n",
    "print('Finished Training')"
   ]
  }
 ],
 "metadata": {
  "kernelspec": {
   "display_name": "ibm_coursera-HHuEwylZ",
   "language": "python",
   "name": "python3"
  },
  "language_info": {
   "codemirror_mode": {
    "name": "ipython",
    "version": 3
   },
   "file_extension": ".py",
   "mimetype": "text/x-python",
   "name": "python",
   "nbconvert_exporter": "python",
   "pygments_lexer": "ipython3",
   "version": "3.11.11"
  }
 },
 "nbformat": 4,
 "nbformat_minor": 2
}
